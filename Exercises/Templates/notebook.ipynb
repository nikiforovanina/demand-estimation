{
 "cells": [
  {
   "cell_type": "markdown",
   "id": "098b4fcf-1c50-4a0d-9359-444a64006e3d",
   "metadata": {},
   "source": [
    "## Notebook Template"
   ]
  },
  {
   "cell_type": "markdown",
   "id": "f5d10fc3-c9f9-41cb-9a48-0f62ec0ebdf9",
   "metadata": {},
   "source": [
    "The following block of code imports various packages used throughout the exercise and configures them to reduce the amount of information printed to your screen."
   ]
  },
  {
   "cell_type": "code",
   "execution_count": null,
   "id": "36fbbf5e-fcf5-443a-819b-68cc88f5a2dd",
   "metadata": {},
   "outputs": [],
   "source": [
    "import pyblp\n",
    "import numpy as np\n",
    "import pandas as pd\n",
    "import statsmodels.formula.api as smf\n",
    "\n",
    "pyblp.options.digits = 3\n",
    "pyblp.options.verbose = False\n",
    "pd.options.display.precision = 3\n",
    "pd.options.display.max_columns = 50\n",
    "\n",
    "import IPython.display\n",
    "IPython.display.display(IPython.display.HTML('<style>pre { white-space: pre !important; }</style>'))"
   ]
  },
  {
   "cell_type": "markdown",
   "id": "792f93a2-bd1c-4c51-8bc8-d18ae0ee8a7d",
   "metadata": {},
   "source": [
    "You can read the product data directly from its URL."
   ]
  },
  {
   "cell_type": "code",
   "execution_count": null,
   "id": "5a24386f-01c6-44d0-aa5d-77ed6b107289",
   "metadata": {},
   "outputs": [],
   "source": [
    "product_data = pd.read_csv('https://github.com/Mixtape-Sessions/Demand-Estimation/raw/main/Exercises/Data/products.csv')"
   ]
  }
 ],
 "metadata": {
  "kernelspec": {
   "display_name": "Python 3 (ipykernel)",
   "language": "python",
   "name": "python3"
  },
  "language_info": {
   "codemirror_mode": {
    "name": "ipython",
    "version": 3
   },
   "file_extension": ".py",
   "mimetype": "text/x-python",
   "name": "python",
   "nbconvert_exporter": "python",
   "pygments_lexer": "ipython3",
   "version": "3.9.18"
  }
 },
 "nbformat": 4,
 "nbformat_minor": 5
}
